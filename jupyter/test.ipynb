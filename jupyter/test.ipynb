{
 "cells": [
  {
   "cell_type": "markdown",
   "id": "2d155124-57d1-4057-a7f5-aa84d8e999a2",
   "metadata": {},
   "source": [
    "# Openmc"
   ]
  },
  {
   "cell_type": "code",
   "execution_count": 1,
   "id": "f4ca8edc-dc39-4126-bacb-f162c04b1f56",
   "metadata": {},
   "outputs": [
    {
     "data": {
      "text/plain": [
       "'0.15.2'"
      ]
     },
     "execution_count": 1,
     "metadata": {},
     "output_type": "execute_result"
    }
   ],
   "source": [
    "import openmc\n",
    "openmc.__version__"
   ]
  },
  {
   "cell_type": "code",
   "execution_count": null,
   "id": "c11154ea-cb24-451d-864d-fd6981632191",
   "metadata": {},
   "outputs": [],
   "source": []
  }
 ],
 "metadata": {
  "kernelspec": {
   "display_name": "Python 3 (ipykernel)",
   "language": "python",
   "name": "python3"
  },
  "language_info": {
   "codemirror_mode": {
    "name": "ipython",
    "version": 3
   },
   "file_extension": ".py",
   "mimetype": "text/x-python",
   "name": "python",
   "nbconvert_exporter": "python",
   "pygments_lexer": "ipython3",
   "version": "3.11.2"
  }
 },
 "nbformat": 4,
 "nbformat_minor": 5
}
